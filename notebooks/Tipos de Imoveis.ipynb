{
 "cells": [
  {
   "cell_type": "code",
   "metadata": {
    "collapsed": true,
    "pycharm": {
     "name": "#%% md Tipos de Imoveis\n"
    }
   },
   "source": [],
   "execution_count": 0,
   "outputs": []
  },
  {
   "cell_type": "code",
   "execution_count": 2,
   "outputs": [
    {
     "data": {
      "text/plain": "                      Tipo           Bairro  Quartos  Vagas  Suites  Area  \\\n0                Quitinete       Copacabana        1      0       0    40   \n1                     Casa  Jardim Botânico        2      0       1   100   \n2  Conjunto Comercial/Sala  Barra da Tijuca        0      4       0   150   \n3              Apartamento           Centro        1      0       0    15   \n4              Apartamento     Higienópolis        1      0       0    48   \n5              Apartamento     Vista Alegre        3      1       0    70   \n6              Apartamento         Cachambi        2      0       0    50   \n7       Casa de Condomínio  Barra da Tijuca        5      4       5   750   \n8       Casa de Condomínio            Ramos        2      2       0    65   \n9  Conjunto Comercial/Sala           Centro        0      3       0   695   \n\n     Valor  Condominio    IPTU  \n0   1700.0       500.0    60.0  \n1   7000.0         NaN     NaN  \n2   5200.0      4020.0  1111.0  \n3    800.0       390.0    20.0  \n4    800.0       230.0     NaN  \n5   1200.0         NaN     NaN  \n6   1300.0       301.0    17.0  \n7  22000.0         NaN     NaN  \n8   1000.0         NaN     NaN  \n9  35000.0     19193.0  3030.0  ",
      "text/html": "<div>\n<style scoped>\n    .dataframe tbody tr th:only-of-type {\n        vertical-align: middle;\n    }\n\n    .dataframe tbody tr th {\n        vertical-align: top;\n    }\n\n    .dataframe thead th {\n        text-align: right;\n    }\n</style>\n<table border=\"1\" class=\"dataframe\">\n  <thead>\n    <tr style=\"text-align: right;\">\n      <th></th>\n      <th>Tipo</th>\n      <th>Bairro</th>\n      <th>Quartos</th>\n      <th>Vagas</th>\n      <th>Suites</th>\n      <th>Area</th>\n      <th>Valor</th>\n      <th>Condominio</th>\n      <th>IPTU</th>\n    </tr>\n  </thead>\n  <tbody>\n    <tr>\n      <th>0</th>\n      <td>Quitinete</td>\n      <td>Copacabana</td>\n      <td>1</td>\n      <td>0</td>\n      <td>0</td>\n      <td>40</td>\n      <td>1700.0</td>\n      <td>500.0</td>\n      <td>60.0</td>\n    </tr>\n    <tr>\n      <th>1</th>\n      <td>Casa</td>\n      <td>Jardim Botânico</td>\n      <td>2</td>\n      <td>0</td>\n      <td>1</td>\n      <td>100</td>\n      <td>7000.0</td>\n      <td>NaN</td>\n      <td>NaN</td>\n    </tr>\n    <tr>\n      <th>2</th>\n      <td>Conjunto Comercial/Sala</td>\n      <td>Barra da Tijuca</td>\n      <td>0</td>\n      <td>4</td>\n      <td>0</td>\n      <td>150</td>\n      <td>5200.0</td>\n      <td>4020.0</td>\n      <td>1111.0</td>\n    </tr>\n    <tr>\n      <th>3</th>\n      <td>Apartamento</td>\n      <td>Centro</td>\n      <td>1</td>\n      <td>0</td>\n      <td>0</td>\n      <td>15</td>\n      <td>800.0</td>\n      <td>390.0</td>\n      <td>20.0</td>\n    </tr>\n    <tr>\n      <th>4</th>\n      <td>Apartamento</td>\n      <td>Higienópolis</td>\n      <td>1</td>\n      <td>0</td>\n      <td>0</td>\n      <td>48</td>\n      <td>800.0</td>\n      <td>230.0</td>\n      <td>NaN</td>\n    </tr>\n    <tr>\n      <th>5</th>\n      <td>Apartamento</td>\n      <td>Vista Alegre</td>\n      <td>3</td>\n      <td>1</td>\n      <td>0</td>\n      <td>70</td>\n      <td>1200.0</td>\n      <td>NaN</td>\n      <td>NaN</td>\n    </tr>\n    <tr>\n      <th>6</th>\n      <td>Apartamento</td>\n      <td>Cachambi</td>\n      <td>2</td>\n      <td>0</td>\n      <td>0</td>\n      <td>50</td>\n      <td>1300.0</td>\n      <td>301.0</td>\n      <td>17.0</td>\n    </tr>\n    <tr>\n      <th>7</th>\n      <td>Casa de Condomínio</td>\n      <td>Barra da Tijuca</td>\n      <td>5</td>\n      <td>4</td>\n      <td>5</td>\n      <td>750</td>\n      <td>22000.0</td>\n      <td>NaN</td>\n      <td>NaN</td>\n    </tr>\n    <tr>\n      <th>8</th>\n      <td>Casa de Condomínio</td>\n      <td>Ramos</td>\n      <td>2</td>\n      <td>2</td>\n      <td>0</td>\n      <td>65</td>\n      <td>1000.0</td>\n      <td>NaN</td>\n      <td>NaN</td>\n    </tr>\n    <tr>\n      <th>9</th>\n      <td>Conjunto Comercial/Sala</td>\n      <td>Centro</td>\n      <td>0</td>\n      <td>3</td>\n      <td>0</td>\n      <td>695</td>\n      <td>35000.0</td>\n      <td>19193.0</td>\n      <td>3030.0</td>\n    </tr>\n  </tbody>\n</table>\n</div>"
     },
     "execution_count": 2,
     "metadata": {},
     "output_type": "execute_result"
    }
   ],
   "source": [
    "import pandas as pd\n",
    "\n",
    "dados = pd.read_csv('aluguel.csv', sep = ';')\n",
    "\n",
    "dados.head(10)"
   ],
   "metadata": {
    "collapsed": false,
    "pycharm": {
     "name": "#%%\n"
    }
   }
  },
  {
   "cell_type": "code",
   "execution_count": 4,
   "outputs": [
    {
     "data": {
      "text/plain": "0                      Quitinete\n1                           Casa\n2        Conjunto Comercial/Sala\n3                    Apartamento\n4                    Apartamento\n                  ...           \n32955                  Quitinete\n32956                Apartamento\n32957                Apartamento\n32958                Apartamento\n32959    Conjunto Comercial/Sala\nName: Tipo, Length: 32960, dtype: object"
     },
     "execution_count": 4,
     "metadata": {},
     "output_type": "execute_result"
    }
   ],
   "source": [
    "dados['Tipo']"
   ],
   "metadata": {
    "collapsed": false,
    "pycharm": {
     "name": "#%%\n"
    }
   }
  },
  {
   "cell_type": "code",
   "execution_count": 7,
   "outputs": [],
   "source": [
    "tipo_de_imovel = dados['Tipo']"
   ],
   "metadata": {
    "collapsed": false,
    "pycharm": {
     "name": "#%%\n"
    }
   }
  },
  {
   "cell_type": "code",
   "execution_count": 9,
   "outputs": [
    {
     "data": {
      "text/plain": "pandas.core.series.Series"
     },
     "execution_count": 9,
     "metadata": {},
     "output_type": "execute_result"
    }
   ],
   "source": [
    "type(tipo_de_imovel)"
   ],
   "metadata": {
    "collapsed": false,
    "pycharm": {
     "name": "#%%\n"
    }
   }
  },
  {
   "cell_type": "code",
   "execution_count": 11,
   "outputs": [
    {
     "data": {
      "text/plain": "0                          Quitinete\n1                               Casa\n2            Conjunto Comercial/Sala\n3                        Apartamento\n7                 Casa de Condomínio\n16                    Prédio Inteiro\n17                              Flat\n29                        Loja/Salão\n80           Galpão/Depósito/Armazém\n83                    Casa Comercial\n117                     Casa de Vila\n159                   Terreno Padrão\n207                      Box/Garagem\n347                             Loft\n589      Loja Shopping/ Ct Comercial\n2157                         Chácara\n3354           Loteamento/Condomínio\n4379                           Sítio\n4721                   Pousada/Chalé\n6983                          Studio\n9687                           Hotel\n23614                      Indústria\nName: Tipo, dtype: object"
     },
     "execution_count": 11,
     "metadata": {},
     "output_type": "execute_result"
    }
   ],
   "source": [
    "tipo_de_imovel.drop_duplicates()"
   ],
   "metadata": {
    "collapsed": false,
    "pycharm": {
     "name": "#%% selecionar somente o tipo de imovel da variavel\n"
    }
   }
  },
  {
   "cell_type": "code",
   "execution_count": 14,
   "outputs": [],
   "source": [
    "tipo_de_imovel.drop_duplicates(inplace=True)\n"
   ],
   "metadata": {
    "collapsed": false,
    "pycharm": {
     "name": "#%%\n"
    }
   }
  },
  {
   "cell_type": "code",
   "execution_count": 16,
   "outputs": [
    {
     "data": {
      "text/plain": "0                          Quitinete\n1                               Casa\n2            Conjunto Comercial/Sala\n3                        Apartamento\n7                 Casa de Condomínio\n16                    Prédio Inteiro\n17                              Flat\n29                        Loja/Salão\n80           Galpão/Depósito/Armazém\n83                    Casa Comercial\n117                     Casa de Vila\n159                   Terreno Padrão\n207                      Box/Garagem\n347                             Loft\n589      Loja Shopping/ Ct Comercial\n2157                         Chácara\n3354           Loteamento/Condomínio\n4379                           Sítio\n4721                   Pousada/Chalé\n6983                          Studio\n9687                           Hotel\n23614                      Indústria\nName: Tipo, dtype: object"
     },
     "execution_count": 16,
     "metadata": {},
     "output_type": "execute_result"
    }
   ],
   "source": [
    "tipo_de_imovel\n"
   ],
   "metadata": {
    "collapsed": false,
    "pycharm": {
     "name": "#%%\n"
    }
   }
  },
  {
   "cell_type": "code",
   "source": [],
   "metadata": {
    "collapsed": false,
    "pycharm": {
     "name": "#%% md organizando a vizualizacao\n"
    }
   },
   "execution_count": 16,
   "outputs": []
  },
  {
   "cell_type": "code",
   "execution_count": 18,
   "outputs": [],
   "source": [
    "tipo_de_imovel = pd.DataFrame(tipo_de_imovel)"
   ],
   "metadata": {
    "collapsed": false,
    "pycharm": {
     "name": "#%%\n"
    }
   }
  },
  {
   "cell_type": "code",
   "execution_count": 21,
   "outputs": [
    {
     "data": {
      "text/plain": "                              Tipo\n0                        Quitinete\n1                             Casa\n2          Conjunto Comercial/Sala\n3                      Apartamento\n7               Casa de Condomínio\n16                  Prédio Inteiro\n17                            Flat\n29                      Loja/Salão\n80         Galpão/Depósito/Armazém\n83                  Casa Comercial\n117                   Casa de Vila\n159                 Terreno Padrão\n207                    Box/Garagem\n347                           Loft\n589    Loja Shopping/ Ct Comercial\n2157                       Chácara\n3354         Loteamento/Condomínio\n4379                         Sítio\n4721                 Pousada/Chalé\n6983                        Studio\n9687                         Hotel\n23614                    Indústria",
      "text/html": "<div>\n<style scoped>\n    .dataframe tbody tr th:only-of-type {\n        vertical-align: middle;\n    }\n\n    .dataframe tbody tr th {\n        vertical-align: top;\n    }\n\n    .dataframe thead th {\n        text-align: right;\n    }\n</style>\n<table border=\"1\" class=\"dataframe\">\n  <thead>\n    <tr style=\"text-align: right;\">\n      <th></th>\n      <th>Tipo</th>\n    </tr>\n  </thead>\n  <tbody>\n    <tr>\n      <th>0</th>\n      <td>Quitinete</td>\n    </tr>\n    <tr>\n      <th>1</th>\n      <td>Casa</td>\n    </tr>\n    <tr>\n      <th>2</th>\n      <td>Conjunto Comercial/Sala</td>\n    </tr>\n    <tr>\n      <th>3</th>\n      <td>Apartamento</td>\n    </tr>\n    <tr>\n      <th>7</th>\n      <td>Casa de Condomínio</td>\n    </tr>\n    <tr>\n      <th>16</th>\n      <td>Prédio Inteiro</td>\n    </tr>\n    <tr>\n      <th>17</th>\n      <td>Flat</td>\n    </tr>\n    <tr>\n      <th>29</th>\n      <td>Loja/Salão</td>\n    </tr>\n    <tr>\n      <th>80</th>\n      <td>Galpão/Depósito/Armazém</td>\n    </tr>\n    <tr>\n      <th>83</th>\n      <td>Casa Comercial</td>\n    </tr>\n    <tr>\n      <th>117</th>\n      <td>Casa de Vila</td>\n    </tr>\n    <tr>\n      <th>159</th>\n      <td>Terreno Padrão</td>\n    </tr>\n    <tr>\n      <th>207</th>\n      <td>Box/Garagem</td>\n    </tr>\n    <tr>\n      <th>347</th>\n      <td>Loft</td>\n    </tr>\n    <tr>\n      <th>589</th>\n      <td>Loja Shopping/ Ct Comercial</td>\n    </tr>\n    <tr>\n      <th>2157</th>\n      <td>Chácara</td>\n    </tr>\n    <tr>\n      <th>3354</th>\n      <td>Loteamento/Condomínio</td>\n    </tr>\n    <tr>\n      <th>4379</th>\n      <td>Sítio</td>\n    </tr>\n    <tr>\n      <th>4721</th>\n      <td>Pousada/Chalé</td>\n    </tr>\n    <tr>\n      <th>6983</th>\n      <td>Studio</td>\n    </tr>\n    <tr>\n      <th>9687</th>\n      <td>Hotel</td>\n    </tr>\n    <tr>\n      <th>23614</th>\n      <td>Indústria</td>\n    </tr>\n  </tbody>\n</table>\n</div>"
     },
     "execution_count": 21,
     "metadata": {},
     "output_type": "execute_result"
    }
   ],
   "source": [
    "tipo_de_imovel"
   ],
   "metadata": {
    "collapsed": false,
    "pycharm": {
     "name": "#%%\n"
    }
   }
  },
  {
   "cell_type": "code",
   "execution_count": 23,
   "outputs": [
    {
     "data": {
      "text/plain": "Int64Index([    0,     1,     2,     3,     7,    16,    17,    29,    80,\n               83,   117,   159,   207,   347,   589,  2157,  3354,  4379,\n             4721,  6983,  9687, 23614],\n           dtype='int64')"
     },
     "execution_count": 23,
     "metadata": {},
     "output_type": "execute_result"
    }
   ],
   "source": [
    "tipo_de_imovel.index"
   ],
   "metadata": {
    "collapsed": false,
    "pycharm": {
     "name": "#%%\n"
    }
   }
  },
  {
   "cell_type": "code",
   "execution_count": 25,
   "outputs": [
    {
     "data": {
      "text/plain": "22"
     },
     "execution_count": 25,
     "metadata": {},
     "output_type": "execute_result"
    }
   ],
   "source": [
    "tipo_de_imovel.shape[0]"
   ],
   "metadata": {
    "collapsed": false,
    "pycharm": {
     "name": "#%%\n"
    }
   }
  },
  {
   "cell_type": "code",
   "execution_count": 27,
   "outputs": [
    {
     "data": {
      "text/plain": "range(0, 22)"
     },
     "execution_count": 27,
     "metadata": {},
     "output_type": "execute_result"
    }
   ],
   "source": [
    "range(tipo_de_imovel.shape[0])"
   ],
   "metadata": {
    "collapsed": false,
    "pycharm": {
     "name": "#%%\n"
    }
   }
  },
  {
   "cell_type": "code",
   "execution_count": 32,
   "outputs": [
    {
     "name": "stdout",
     "output_type": "stream",
     "text": [
      "0\n",
      "1\n",
      "2\n",
      "3\n",
      "4\n",
      "5\n",
      "6\n",
      "7\n",
      "8\n",
      "9\n",
      "10\n",
      "11\n",
      "12\n",
      "13\n",
      "14\n",
      "15\n",
      "16\n",
      "17\n",
      "18\n",
      "19\n",
      "20\n",
      "21\n"
     ]
    }
   ],
   "source": [
    "for i in range(tipo_de_imovel.shape[0]):\n",
    "    print(i)"
   ],
   "metadata": {
    "collapsed": false,
    "pycharm": {
     "name": "#%%\n"
    }
   }
  },
  {
   "cell_type": "code",
   "execution_count": 35,
   "outputs": [],
   "source": [
    "tipo_de_imovel.index = range(tipo_de_imovel.shape[0])"
   ],
   "metadata": {
    "collapsed": false,
    "pycharm": {
     "name": "#%%\n"
    }
   }
  },
  {
   "cell_type": "code",
   "execution_count": 37,
   "outputs": [
    {
     "data": {
      "text/plain": "                           Tipo\n0                     Quitinete\n1                          Casa\n2       Conjunto Comercial/Sala\n3                   Apartamento\n4            Casa de Condomínio\n5                Prédio Inteiro\n6                          Flat\n7                    Loja/Salão\n8       Galpão/Depósito/Armazém\n9                Casa Comercial\n10                 Casa de Vila\n11               Terreno Padrão\n12                  Box/Garagem\n13                         Loft\n14  Loja Shopping/ Ct Comercial\n15                      Chácara\n16        Loteamento/Condomínio\n17                        Sítio\n18                Pousada/Chalé\n19                       Studio\n20                        Hotel\n21                    Indústria",
      "text/html": "<div>\n<style scoped>\n    .dataframe tbody tr th:only-of-type {\n        vertical-align: middle;\n    }\n\n    .dataframe tbody tr th {\n        vertical-align: top;\n    }\n\n    .dataframe thead th {\n        text-align: right;\n    }\n</style>\n<table border=\"1\" class=\"dataframe\">\n  <thead>\n    <tr style=\"text-align: right;\">\n      <th></th>\n      <th>Tipo</th>\n    </tr>\n  </thead>\n  <tbody>\n    <tr>\n      <th>0</th>\n      <td>Quitinete</td>\n    </tr>\n    <tr>\n      <th>1</th>\n      <td>Casa</td>\n    </tr>\n    <tr>\n      <th>2</th>\n      <td>Conjunto Comercial/Sala</td>\n    </tr>\n    <tr>\n      <th>3</th>\n      <td>Apartamento</td>\n    </tr>\n    <tr>\n      <th>4</th>\n      <td>Casa de Condomínio</td>\n    </tr>\n    <tr>\n      <th>5</th>\n      <td>Prédio Inteiro</td>\n    </tr>\n    <tr>\n      <th>6</th>\n      <td>Flat</td>\n    </tr>\n    <tr>\n      <th>7</th>\n      <td>Loja/Salão</td>\n    </tr>\n    <tr>\n      <th>8</th>\n      <td>Galpão/Depósito/Armazém</td>\n    </tr>\n    <tr>\n      <th>9</th>\n      <td>Casa Comercial</td>\n    </tr>\n    <tr>\n      <th>10</th>\n      <td>Casa de Vila</td>\n    </tr>\n    <tr>\n      <th>11</th>\n      <td>Terreno Padrão</td>\n    </tr>\n    <tr>\n      <th>12</th>\n      <td>Box/Garagem</td>\n    </tr>\n    <tr>\n      <th>13</th>\n      <td>Loft</td>\n    </tr>\n    <tr>\n      <th>14</th>\n      <td>Loja Shopping/ Ct Comercial</td>\n    </tr>\n    <tr>\n      <th>15</th>\n      <td>Chácara</td>\n    </tr>\n    <tr>\n      <th>16</th>\n      <td>Loteamento/Condomínio</td>\n    </tr>\n    <tr>\n      <th>17</th>\n      <td>Sítio</td>\n    </tr>\n    <tr>\n      <th>18</th>\n      <td>Pousada/Chalé</td>\n    </tr>\n    <tr>\n      <th>19</th>\n      <td>Studio</td>\n    </tr>\n    <tr>\n      <th>20</th>\n      <td>Hotel</td>\n    </tr>\n    <tr>\n      <th>21</th>\n      <td>Indústria</td>\n    </tr>\n  </tbody>\n</table>\n</div>"
     },
     "execution_count": 37,
     "metadata": {},
     "output_type": "execute_result"
    }
   ],
   "source": [
    "tipo_de_imovel"
   ],
   "metadata": {
    "collapsed": false,
    "pycharm": {
     "name": "#%%\n"
    }
   }
  },
  {
   "cell_type": "code",
   "execution_count": 39,
   "outputs": [],
   "source": [
    "tipo_de_imovel.columns.name = 'Id'"
   ],
   "metadata": {
    "collapsed": false,
    "pycharm": {
     "name": "#%%\n"
    }
   }
  },
  {
   "cell_type": "code",
   "execution_count": 40,
   "outputs": [
    {
     "data": {
      "text/plain": "Id                         Tipo\n0                     Quitinete\n1                          Casa\n2       Conjunto Comercial/Sala\n3                   Apartamento\n4            Casa de Condomínio\n5                Prédio Inteiro\n6                          Flat\n7                    Loja/Salão\n8       Galpão/Depósito/Armazém\n9                Casa Comercial\n10                 Casa de Vila\n11               Terreno Padrão\n12                  Box/Garagem\n13                         Loft\n14  Loja Shopping/ Ct Comercial\n15                      Chácara\n16        Loteamento/Condomínio\n17                        Sítio\n18                Pousada/Chalé\n19                       Studio\n20                        Hotel\n21                    Indústria",
      "text/html": "<div>\n<style scoped>\n    .dataframe tbody tr th:only-of-type {\n        vertical-align: middle;\n    }\n\n    .dataframe tbody tr th {\n        vertical-align: top;\n    }\n\n    .dataframe thead th {\n        text-align: right;\n    }\n</style>\n<table border=\"1\" class=\"dataframe\">\n  <thead>\n    <tr style=\"text-align: right;\">\n      <th>Id</th>\n      <th>Tipo</th>\n    </tr>\n  </thead>\n  <tbody>\n    <tr>\n      <th>0</th>\n      <td>Quitinete</td>\n    </tr>\n    <tr>\n      <th>1</th>\n      <td>Casa</td>\n    </tr>\n    <tr>\n      <th>2</th>\n      <td>Conjunto Comercial/Sala</td>\n    </tr>\n    <tr>\n      <th>3</th>\n      <td>Apartamento</td>\n    </tr>\n    <tr>\n      <th>4</th>\n      <td>Casa de Condomínio</td>\n    </tr>\n    <tr>\n      <th>5</th>\n      <td>Prédio Inteiro</td>\n    </tr>\n    <tr>\n      <th>6</th>\n      <td>Flat</td>\n    </tr>\n    <tr>\n      <th>7</th>\n      <td>Loja/Salão</td>\n    </tr>\n    <tr>\n      <th>8</th>\n      <td>Galpão/Depósito/Armazém</td>\n    </tr>\n    <tr>\n      <th>9</th>\n      <td>Casa Comercial</td>\n    </tr>\n    <tr>\n      <th>10</th>\n      <td>Casa de Vila</td>\n    </tr>\n    <tr>\n      <th>11</th>\n      <td>Terreno Padrão</td>\n    </tr>\n    <tr>\n      <th>12</th>\n      <td>Box/Garagem</td>\n    </tr>\n    <tr>\n      <th>13</th>\n      <td>Loft</td>\n    </tr>\n    <tr>\n      <th>14</th>\n      <td>Loja Shopping/ Ct Comercial</td>\n    </tr>\n    <tr>\n      <th>15</th>\n      <td>Chácara</td>\n    </tr>\n    <tr>\n      <th>16</th>\n      <td>Loteamento/Condomínio</td>\n    </tr>\n    <tr>\n      <th>17</th>\n      <td>Sítio</td>\n    </tr>\n    <tr>\n      <th>18</th>\n      <td>Pousada/Chalé</td>\n    </tr>\n    <tr>\n      <th>19</th>\n      <td>Studio</td>\n    </tr>\n    <tr>\n      <th>20</th>\n      <td>Hotel</td>\n    </tr>\n    <tr>\n      <th>21</th>\n      <td>Indústria</td>\n    </tr>\n  </tbody>\n</table>\n</div>"
     },
     "execution_count": 40,
     "metadata": {},
     "output_type": "execute_result"
    }
   ],
   "source": [
    "tipo_de_imovel"
   ],
   "metadata": {
    "collapsed": false,
    "pycharm": {
     "name": "#%%\n"
    }
   }
  }
 ],
 "metadata": {
  "kernelspec": {
   "display_name": "Python 3",
   "language": "python",
   "name": "python3"
  },
  "language_info": {
   "codemirror_mode": {
    "name": "ipython",
    "version": 2
   },
   "file_extension": ".py",
   "mimetype": "text/x-python",
   "name": "python",
   "nbconvert_exporter": "python",
   "pygments_lexer": "ipython2",
   "version": "2.7.6"
  }
 },
 "nbformat": 4,
 "nbformat_minor": 0
}